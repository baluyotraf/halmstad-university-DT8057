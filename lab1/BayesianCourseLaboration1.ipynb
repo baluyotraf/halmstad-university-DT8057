{
 "cells": [
  {
   "cell_type": "code",
   "execution_count": null,
   "metadata": {},
   "outputs": [],
   "source": [
    "import numpy as np\n",
    "import pandas as pd"
   ]
  },
  {
   "cell_type": "code",
   "execution_count": null,
   "metadata": {},
   "outputs": [],
   "source": [
    "# Read in training data\n",
    "train_data = pd.read_csv(\"lab1_train.data\", sep=\"\\t\", header=None)\n",
    "train_data_x = train_data[train_data.columns[:-1]]\n",
    "train_data_y = train_data[train_data.columns[-1]]\n",
    "train_data.shape"
   ]
  },
  {
   "cell_type": "code",
   "execution_count": null,
   "metadata": {},
   "outputs": [],
   "source": [
    "# Read in test data\n",
    "test_data = pd.read_csv(\"lab1_test.data\", sep=\"\\t\", header=None)\n",
    "test_data_x = test_data[test_data.columns[:-1]]\n",
    "test_data_y = test_data[test_data.columns[-1]]\n",
    "test_data.shape"
   ]
  },
  {
   "cell_type": "code",
   "execution_count": null,
   "metadata": {},
   "outputs": [],
   "source": [
    "# First check with scikit learn version\n",
    "from sklearn.naive_bayes import BernoulliNB\n",
    "mod0 = BernoulliNB()\n",
    "mod0.fit(train_data_x, train_data_y)"
   ]
  },
  {
   "cell_type": "code",
   "execution_count": null,
   "metadata": {},
   "outputs": [],
   "source": [
    "# Performance on training data\n",
    "sum(mod0.predict(train_data_x) == train_data_y)"
   ]
  },
  {
   "cell_type": "code",
   "execution_count": null,
   "metadata": {},
   "outputs": [],
   "source": [
    "# Performance on test data\n",
    "sum(mod0.predict(test_data_x) == test_data_y)"
   ]
  },
  {
   "cell_type": "code",
   "execution_count": null,
   "metadata": {},
   "outputs": [],
   "source": [
    "# Here, define your own Naive Bayesian model\n",
    "class MyNaiveBayes():\n",
    "    def __init__(self, alpha):\n",
    "        # Here you might want to initialize e.g. counters for n_y and n_iy needed to estimate P(y) and P(x_i|y)\n",
    "        pass\n",
    "    def fit(self, data_x, data_y):\n",
    "        # Here you need to go through the pandas DataFrame objects data_x and data_y and update the counters.\n",
    "        # You may also here (or alternatively in predict) estimate P(y) and P(x_i|y).\n",
    "        # First, use ordinary frequentist estimates: n_i / n_tot\n",
    "        pass\n",
    "    def predict(self, data_x):\n",
    "        # Here you need to, for each sample in data_x, calculate the most probable class, and return them all in a list\n",
    "        # That is, combine the estimates above using the naive Bayesian formula.\n",
    "        # You don't necessarily need to normalize the probabilities, since you will only pick the most probable class.\n",
    "        pass"
   ]
  },
  {
   "cell_type": "code",
   "execution_count": null,
   "metadata": {},
   "outputs": [],
   "source": [
    "# When you are done, check the performance\n",
    "mod = MyNaiveBayes()\n",
    "mod.fit(train_data_x, train_data_y)"
   ]
  },
  {
   "cell_type": "code",
   "execution_count": null,
   "metadata": {},
   "outputs": [],
   "source": [
    "# Performance on training data\n",
    "sum(mod.predict(train_data_x) == train_data_y)"
   ]
  },
  {
   "cell_type": "code",
   "execution_count": null,
   "metadata": {},
   "outputs": [],
   "source": [
    "# Performance on test data\n",
    "sum(mod.predict(test_data_x) == test_data_y)"
   ]
  },
  {
   "cell_type": "code",
   "execution_count": null,
   "metadata": {},
   "outputs": [],
   "source": [
    "# Maybe you experienced some problems with your first implementation?\n",
    "# For example, did you just multiply all factors together in 'predict'?\n",
    "# What happens when you multiply very many very small numbers?\n",
    "# If you had this problem, change your implementation to add the logarithms of the probabilities\n",
    "# instead of multiplying them. Did it help?"
   ]
  },
  {
   "cell_type": "code",
   "execution_count": null,
   "metadata": {},
   "outputs": [],
   "source": [
    "# Possibly you also got some errors or warnings related to 'division by zero', for the test data.\n",
    "# Why do you think this happens?\n",
    "# But don't worry. We deal with that next."
   ]
  },
  {
   "cell_type": "code",
   "execution_count": null,
   "metadata": {},
   "outputs": [],
   "source": [
    "# Now it is time to change your code to use Bayesian estimates of the probabilities. \n",
    "# Consider using a parameter alpha to control the strength of the prior: (n_i + alpha/2) / (n_tot + alpha)\n",
    "# Redefine your code up there, or copy it here, as you prefer. Then evaluate the model again below"
   ]
  },
  {
   "cell_type": "code",
   "execution_count": null,
   "metadata": {},
   "outputs": [],
   "source": [
    "# Check the performance of the new model\n",
    "alpha = 1.0\n",
    "mod = MyNaiveBayes(alpha)\n",
    "mod.fit(train_data_x, train_data_y)"
   ]
  },
  {
   "cell_type": "code",
   "execution_count": null,
   "metadata": {},
   "outputs": [],
   "source": [
    "# Performance on training data\n",
    "sum(mod.predict(train_data_x) == train_data_y)"
   ]
  },
  {
   "cell_type": "code",
   "execution_count": null,
   "metadata": {},
   "outputs": [],
   "source": [
    "# Performance on test data\n",
    "sum(mod.predict(test_data_x) == test_data_y)"
   ]
  },
  {
   "cell_type": "code",
   "execution_count": null,
   "metadata": {},
   "outputs": [],
   "source": [
    "# How did the different versions perform?\n",
    "# You can also test with some different alpha.\n",
    "# What conclusions can be drawn?\n",
    "# What have you learned?"
   ]
  },
  {
   "cell_type": "code",
   "execution_count": null,
   "metadata": {},
   "outputs": [],
   "source": []
  }
 ],
 "metadata": {
  "kernelspec": {
   "display_name": "Python 3",
   "language": "python",
   "name": "python3"
  },
  "language_info": {
   "codemirror_mode": {
    "name": "ipython",
    "version": 3
   },
   "file_extension": ".py",
   "mimetype": "text/x-python",
   "name": "python",
   "nbconvert_exporter": "python",
   "pygments_lexer": "ipython3",
   "version": "3.8.10"
  }
 },
 "nbformat": 4,
 "nbformat_minor": 4
}
